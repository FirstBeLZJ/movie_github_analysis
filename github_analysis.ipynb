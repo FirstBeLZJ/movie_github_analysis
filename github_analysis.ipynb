{
 "cells": [
  {
   "cell_type": "markdown",
   "metadata": {},
   "source": [
    "# 互评作业1：数据探索性分析与数据预处理\n",
    "## 数据集1：[Github Dataset](https://www.kaggle.com/datasets/nikhil25803/github-dataset?select=repository_data.csv) Version 2\n",
    "### 1.数据摘要\n",
    "#### 1.1属性\n",
    "- `name` 仓库的名称\n",
    "- `stars_count` 仓库的star数量\n",
    "- `forks_count` 仓库的fork数量\n",
    "- `watchers` 仓库当前有多少观看者\n",
    "- `pull_requests` 拉取该仓库的请求数量\n",
    "- `primary_language` 仓库主要使用的编程语言\n",
    "- `languages_used` 该仓库所有使用过的编程语言的列表\n",
    "- `commit_count` 该仓库的提交记录数量\n",
    "- `create_at` 仓库创建的时间和日期\n",
    "- ` license` 这个仓库使用的证书"
   ]
  },
  {
   "cell_type": "code",
   "execution_count": 62,
   "metadata": {},
   "outputs": [
    {
     "data": {
      "text/plain": [
       "['name',\n",
       " 'stars_count',\n",
       " 'forks_count',\n",
       " 'watchers',\n",
       " 'pull_requests',\n",
       " 'primary_language',\n",
       " 'languages_used',\n",
       " 'commit_count',\n",
       " 'created_at',\n",
       " 'licence']"
      ]
     },
     "execution_count": 62,
     "metadata": {},
     "output_type": "execute_result"
    }
   ],
   "source": [
    "import pandas as pd\n",
    "\n",
    "github_df = pd.read_csv(\"github/repository_data.csv\")\n",
    "github_df.columns.tolist()"
   ]
  },
  {
   "cell_type": "markdown",
   "metadata": {},
   "source": [
    "#### 1.2标称属性\n",
    "- `name` 仓库的名称\n",
    "\n",
    "`name`频数："
   ]
  },
  {
   "cell_type": "code",
   "execution_count": 51,
   "metadata": {},
   "outputs": [
    {
     "data": {
      "text/plain": [
       "name\n",
       "dotfiles                                 5590\n",
       "blog                                     2038\n",
       "docs                                     1350\n",
       "website                                  1163\n",
       "scripts                                   649\n",
       "                                         ... \n",
       "markdown-to-presentation                    1\n",
       "moodle-client                               1\n",
       "event-sourcing-graph                        1\n",
       "react-native-100-Demos                      1\n",
       "MSI-Z690-Carbon-i7-12700KF-Hackintosh       1\n",
       "Name: count, Length: 2410862, dtype: int64"
      ]
     },
     "execution_count": 51,
     "metadata": {},
     "output_type": "execute_result"
    }
   ],
   "source": [
    "github_df['name'].value_counts()"
   ]
  },
  {
   "cell_type": "markdown",
   "metadata": {},
   "source": [
    "- `primary_language` 仓库主要使用的编程语言\n",
    "\n",
    "`primary_language`频数："
   ]
  },
  {
   "cell_type": "code",
   "execution_count": 52,
   "metadata": {},
   "outputs": [
    {
     "data": {
      "text/plain": [
       "primary_language\n",
       "JavaScript              451954\n",
       "Python                  451473\n",
       "Java                    202394\n",
       "C++                     150066\n",
       "PHP                     116058\n",
       "                         ...  \n",
       "LoomScript                   1\n",
       "Ragel in Ruby Host           1\n",
       "Edje Data Collection         1\n",
       "Sieve                        1\n",
       "Ox                           1\n",
       "Name: count, Length: 497, dtype: int64"
      ]
     },
     "execution_count": 52,
     "metadata": {},
     "output_type": "execute_result"
    }
   ],
   "source": [
    "github_df['primary_language'].value_counts()"
   ]
  },
  {
   "cell_type": "markdown",
   "metadata": {},
   "source": [
    "- `languages_used` 该仓库所有使用过的编程语言的列表\n",
    "\n",
    "`languages_used`频数："
   ]
  },
  {
   "cell_type": "code",
   "execution_count": 53,
   "metadata": {},
   "outputs": [
    {
     "data": {
      "text/plain": [
       "languages_used\n",
       "['Python']                                                        257679\n",
       "['JavaScript']                                                    157741\n",
       "['Java']                                                          117624\n",
       "['C#']                                                             60299\n",
       "['PHP']                                                            56333\n",
       "                                                                   ...  \n",
       "['Svelte', 'TypeScript', 'JavaScript', 'HTML', 'CSS', 'Rust']          1\n",
       "['Dockerfile', 'Shell', 'JavaScript', 'PowerShell']                    1\n",
       "['TypeScript', 'HTML', 'Vue', 'JavaScript', 'Python', 'Shell']         1\n",
       "['C++', 'C', 'Pascal', 'Batchfile', 'GDB']                             1\n",
       "['HTML', 'C++', 'TypeScript', 'JavaScript']                            1\n",
       "Name: count, Length: 328148, dtype: int64"
      ]
     },
     "execution_count": 53,
     "metadata": {},
     "output_type": "execute_result"
    }
   ],
   "source": [
    "github_df['languages_used'].value_counts()"
   ]
  },
  {
   "cell_type": "markdown",
   "metadata": {},
   "source": [
    "- ` license` 这个仓库使用的证书\n",
    "\n",
    "`license`频数："
   ]
  },
  {
   "cell_type": "code",
   "execution_count": 54,
   "metadata": {},
   "outputs": [
    {
     "data": {
      "text/plain": [
       "licence\n",
       "MIT License                                                   784251\n",
       "Apache License 2.0                                            210698\n",
       "Other                                                         167987\n",
       "GNU General Public License v3.0                               159443\n",
       "BSD 3-Clause \"New\" or \"Revised\" License                        47078\n",
       "GNU General Public License v2.0                                43297\n",
       "GNU Affero General Public License v3.0                         21554\n",
       "BSD 2-Clause \"Simplified\" License                              16819\n",
       "The Unlicense                                                  14400\n",
       "GNU Lesser General Public License v3.0                         14002\n",
       "Mozilla Public License 2.0                                     10668\n",
       "Creative Commons Zero v1.0 Universal                           10353\n",
       "ISC License                                                     8232\n",
       "GNU Lesser General Public License v2.1                          6168\n",
       "Eclipse Public License 1.0                                      3699\n",
       "Do What The F*ck You Want To Public License                     3493\n",
       "Creative Commons Attribution 4.0 International                  3292\n",
       "Creative Commons Attribution Share Alike 4.0 International      2664\n",
       "MIT No Attribution                                              2193\n",
       "zlib License                                                    1512\n",
       "Boost Software License 1.0                                      1421\n",
       "Eclipse Public License 2.0                                      1206\n",
       "BSD Zero Clause License                                          770\n",
       "SIL Open Font License 1.1                                        761\n",
       "Artistic License 2.0                                             685\n",
       "Open Software License 3.0                                        644\n",
       "Microsoft Public License                                         470\n",
       "European Union Public License 1.2                                429\n",
       "BSD 3-Clause Clear License                                       295\n",
       "LaTeX Project Public License v1.3c                               266\n",
       "BSD 4-Clause \"Original\" or \"Old\" License                         251\n",
       "Universal Permissive License v1.0                                193\n",
       "Academic Free License v3.0                                       143\n",
       "European Union Public License 1.1                                 93\n",
       "University of Illinois/NCSA Open Source License                   90\n",
       "PostgreSQL License                                                66\n",
       "Open Data Commons Open Database License v1.0                      57\n",
       "Educational Community License v2.0                                25\n",
       "Mulan Permissive Software License, Version 2                      20\n",
       "Vim License                                                       20\n",
       "CeCILL Free Software License Agreement v2.1                       19\n",
       "Microsoft Reciprocal License                                      15\n",
       "CERN Open Hardware Licence Version 2 - Permissive                  4\n",
       "CERN Open Hardware Licence Version 2 - Strongly Reciprocal         2\n",
       "CERN Open Hardware Licence Version 2 - Weakly Reciprocal           2\n",
       "GNU Free Documentation License v1.3                                1\n",
       "Name: count, dtype: int64"
      ]
     },
     "execution_count": 54,
     "metadata": {},
     "output_type": "execute_result"
    }
   ],
   "source": [
    "github_df['licence'].value_counts()"
   ]
  },
  {
   "cell_type": "markdown",
   "metadata": {},
   "source": [
    "#### 1.3数值属性\n",
    "- `stars_count` 仓库打星数量\n",
    "\n",
    "`stars_count`五数概括"
   ]
  },
  {
   "cell_type": "code",
   "execution_count": 55,
   "metadata": {},
   "outputs": [
    {
     "data": {
      "text/plain": [
       "min         2.0\n",
       "25%         7.0\n",
       "50%        12.0\n",
       "75%        30.0\n",
       "max    359805.0\n",
       "Name: stars_count, dtype: float64"
      ]
     },
     "execution_count": 55,
     "metadata": {},
     "output_type": "execute_result"
    }
   ],
   "source": [
    "github_df['stars_count'].describe()[3:]"
   ]
  },
  {
   "cell_type": "markdown",
   "metadata": {},
   "source": [
    "- `forks_count`仓库分支数量\n",
    "\n",
    "`forks_count`五数概括"
   ]
  },
  {
   "cell_type": "code",
   "execution_count": 56,
   "metadata": {},
   "outputs": [
    {
     "data": {
      "text/plain": [
       "min         0.0\n",
       "25%         1.0\n",
       "50%         4.0\n",
       "75%        11.0\n",
       "max    242208.0\n",
       "Name: forks_count, dtype: float64"
      ]
     },
     "execution_count": 56,
     "metadata": {},
     "output_type": "execute_result"
    }
   ],
   "source": [
    "github_df['forks_count'].describe()[3:]"
   ]
  },
  {
   "cell_type": "markdown",
   "metadata": {},
   "source": [
    "- `watchers`观看者数量\n",
    "\n",
    "`watchers`五数概括"
   ]
  },
  {
   "cell_type": "code",
   "execution_count": 57,
   "metadata": {},
   "outputs": [
    {
     "data": {
      "text/plain": [
       "min       0.0\n",
       "25%       2.0\n",
       "50%       3.0\n",
       "75%       6.0\n",
       "max    9544.0\n",
       "Name: watchers, dtype: float64"
      ]
     },
     "execution_count": 57,
     "metadata": {},
     "output_type": "execute_result"
    }
   ],
   "source": [
    "github_df['watchers'].describe()[3:]"
   ]
  },
  {
   "cell_type": "markdown",
   "metadata": {},
   "source": [
    "- `pull_requests`拉取请求数量\n",
    "\n",
    "`pull_requests`五数概括"
   ]
  },
  {
   "cell_type": "code",
   "execution_count": 58,
   "metadata": {},
   "outputs": [
    {
     "data": {
      "text/plain": [
       "min         0.0\n",
       "25%         0.0\n",
       "50%         1.0\n",
       "75%         6.0\n",
       "max    301585.0\n",
       "Name: pull_requests, dtype: float64"
      ]
     },
     "execution_count": 58,
     "metadata": {},
     "output_type": "execute_result"
    }
   ],
   "source": [
    "github_df['pull_requests'].describe()[3:]"
   ]
  },
  {
   "cell_type": "markdown",
   "metadata": {},
   "source": [
    "- `commit_count`拉取请求数量\n",
    "\n",
    "`commit_count`五数概括"
   ]
  },
  {
   "cell_type": "code",
   "execution_count": 59,
   "metadata": {},
   "outputs": [
    {
     "data": {
      "text/plain": [
       "min          1.0\n",
       "25%          9.0\n",
       "50%         27.0\n",
       "75%         89.0\n",
       "max    4314502.0\n",
       "Name: commit_count, dtype: float64"
      ]
     },
     "execution_count": 59,
     "metadata": {},
     "output_type": "execute_result"
    }
   ],
   "source": [
    "github_df['commit_count'].describe()[3:] "
   ]
  },
  {
   "cell_type": "markdown",
   "metadata": {},
   "source": [
    "## 2.数据可视化\n",
    "### 2.1主要编程语言"
   ]
  },
  {
   "cell_type": "code",
   "execution_count": 60,
   "metadata": {},
   "outputs": [
    {
     "data": {
      "image/png": "[encoded data removed]",
      "text/plain": [
       "<Figure size 640x480 with 1 Axes>"
      ]
     },
     "metadata": {},
     "output_type": "display_data"
    }
   ],
   "source": [
    "import matplotlib.pyplot as plt\n",
    "\n",
    "category_counts = github_df['primary_language'].value_counts().sort_values()[-20:]\n",
    "plt.barh(category_counts.index,category_counts.values)\n",
    "plt.show()"
   ]
  },
  {
   "cell_type": "markdown",
   "metadata": {},
   "source": [
    "### 2.2仓库创建时间"
   ]
  },
  {
   "cell_type": "code",
   "execution_count": 61,
   "metadata": {},
   "outputs": [
    {
     "data": {
      "image/png": "[encoded data removed]",
      "text/plain": [
       "<Figure size 640x480 with 1 Axes>"
      ]
     },
     "metadata": {},
     "output_type": "display_data"
    }
   ],
   "source": [
    "year_counts = pd.to_datetime(github_df['created_at']).dt.year.value_counts()\n",
    "plt.bar(year_counts.index,year_counts.values)\n",
    "plt.show()"
   ]
  },
  {
   "cell_type": "markdown",
   "metadata": {},
   "source": [
    "### 2.3仓库各项数值属性"
   ]
  },
  {
   "cell_type": "code",
   "execution_count": 66,
   "metadata": {},
   "outputs": [
    {
     "data": {
      "image/png": "[encoded data removed]",
      "text/plain": [
       "<Figure size 640x480 with 1 Axes>"
      ]
     },
     "metadata": {},
     "output_type": "display_data"
    }
   ],
   "source": [
    "github_num = github_df[['stars_count','forks_count','watchers','pull_requests','commit_count']].dropna()\n",
    "github_num.boxplot(flierprops={'marker': '.', 'markerfacecolor': 'green', 'markersize': 5, 'linestyle': 'none'},whis=(5,95),vert=False)\n",
    "plt.show()"
   ]
  },
  {
   "cell_type": "markdown",
   "metadata": {},
   "source": [
    "取消异常值"
   ]
  },
  {
   "cell_type": "code",
   "execution_count": 67,
   "metadata": {},
   "outputs": [
    {
     "data": {
      "image/png": "[encoded data removed]",
      "text/plain": [
       "<Figure size 640x480 with 1 Axes>"
      ]
     },
     "metadata": {},
     "output_type": "display_data"
    }
   ],
   "source": [
    "github_num.boxplot(showfliers=False,vert=False)\n",
    "plt.show()"
   ]
  },
  {
   "cell_type": "markdown",
   "metadata": {},
   "source": [
    "## 3.缺失值处理"
   ]
  },
  {
   "cell_type": "code",
   "execution_count": 45,
   "metadata": {},
   "outputs": [
    {
     "data": {
      "text/html": [
       "<div>\n",
       "<style scoped>\n",
       "    .dataframe tbody tr th:only-of-type {\n",
       "        vertical-align: middle;\n",
       "    }\n",
       "\n",
       "    .dataframe tbody tr th {\n",
       "        vertical-align: top;\n",
       "    }\n",
       "\n",
       "    .dataframe thead th {\n",
       "        text-align: right;\n",
       "    }\n",
       "</style>\n",
       "<table border=\"1\" class=\"dataframe\">\n",
       "  <thead>\n",
       "    <tr style=\"text-align: right;\">\n",
       "      <th></th>\n",
       "      <th>name</th>\n",
       "      <th>primary_language</th>\n",
       "      <th>languages_used</th>\n",
       "      <th>commit_count</th>\n",
       "      <th>licence</th>\n",
       "    </tr>\n",
       "  </thead>\n",
       "  <tbody>\n",
       "    <tr>\n",
       "      <th>missing_count</th>\n",
       "      <td>13</td>\n",
       "      <td>218573</td>\n",
       "      <td>221984</td>\n",
       "      <td>1921</td>\n",
       "      <td>1378200</td>\n",
       "    </tr>\n",
       "  </tbody>\n",
       "</table>\n",
       "</div>"
      ],
      "text/plain": [
       "               name  primary_language  languages_used  commit_count  licence\n",
       "missing_count    13            218573          221984          1921  1378200"
      ]
     },
     "execution_count": 45,
     "metadata": {},
     "output_type": "execute_result"
    }
   ],
   "source": [
    "missing_values = github_df.isnull().sum()\n",
    "missing_values = pd.DataFrame(missing_values, columns=['missing_count']).T\n",
    "missing_values = missing_values.loc[:, (missing_values != 0).any(axis=0)]\n",
    "missing_values"
   ]
  },
  {
   "cell_type": "markdown",
   "metadata": {},
   "source": [
    "### 3.1剔除缺失部分\n",
    "去除了100多万行有缺失值的数据行"
   ]
  },
  {
   "cell_type": "code",
   "execution_count": 46,
   "metadata": {},
   "outputs": [
    {
     "name": "stdout",
     "output_type": "stream",
     "text": [
      "(2917951, 10)\n",
      "(1471611, 10)\n"
     ]
    }
   ],
   "source": [
    "print(github_df.shape)\n",
    "github_df_cleaned = github_df.dropna()\n",
    "print(github_df_cleaned.shape)"
   ]
  },
  {
   "cell_type": "markdown",
   "metadata": {},
   "source": [
    "### 3.2用最高频率值填补缺失值"
   ]
  },
  {
   "cell_type": "code",
   "execution_count": 47,
   "metadata": {},
   "outputs": [
    {
     "data": {
      "text/html": [
       "<div>\n",
       "<style scoped>\n",
       "    .dataframe tbody tr th:only-of-type {\n",
       "        vertical-align: middle;\n",
       "    }\n",
       "\n",
       "    .dataframe tbody tr th {\n",
       "        vertical-align: top;\n",
       "    }\n",
       "\n",
       "    .dataframe thead th {\n",
       "        text-align: right;\n",
       "    }\n",
       "</style>\n",
       "<table border=\"1\" class=\"dataframe\">\n",
       "  <thead>\n",
       "    <tr style=\"text-align: right;\">\n",
       "      <th></th>\n",
       "      <th>name</th>\n",
       "      <th>primary_language</th>\n",
       "      <th>languages_used</th>\n",
       "      <th>commit_count</th>\n",
       "      <th>licence</th>\n",
       "    </tr>\n",
       "  </thead>\n",
       "  <tbody>\n",
       "    <tr>\n",
       "      <th>replace_values</th>\n",
       "      <td>dotfiles</td>\n",
       "      <td>JavaScript</td>\n",
       "      <td>['Python']</td>\n",
       "      <td>2</td>\n",
       "      <td>MIT License</td>\n",
       "    </tr>\n",
       "  </tbody>\n",
       "</table>\n",
       "</div>"
      ],
      "text/plain": [
       "                    name primary_language languages_used  commit_count  \\\n",
       "replace_values  dotfiles       JavaScript     ['Python']             2   \n",
       "\n",
       "                    licence  \n",
       "replace_values  MIT License  "
      ]
     },
     "execution_count": 47,
     "metadata": {},
     "output_type": "execute_result"
    }
   ],
   "source": [
    "github_df_cleaned = github_df.copy()\n",
    "replace_values = missing_values.copy().rename(index={'missing_count':'replace_values'})\n",
    "for col in replace_values.columns:\n",
    "    if missing_values.loc['missing_count',col] == 0:\n",
    "        continue\n",
    "    mode = github_df[col].mode()[0]\n",
    "    github_df_cleaned[col].fillna(mode,inplace=True)\n",
    "    replace_values.loc['replace_values',col] = mode\n",
    "replace_values"
   ]
  },
  {
   "cell_type": "markdown",
   "metadata": {},
   "source": [
    "3.3用数据对象之间的相似性填补缺失值\n",
    "\n",
    "这里采用热卡插补(由于Version 2数据量过大，需要较长时间的计算,这里用Version 1较小版本的数据进行代码展示，源代码在代码仓库中另附)"
   ]
  },
  {
   "cell_type": "code",
   "execution_count": 48,
   "metadata": {},
   "outputs": [
    {
     "data": {
      "text/html": [
       "<div>\n",
       "<style scoped>\n",
       "    .dataframe tbody tr th:only-of-type {\n",
       "        vertical-align: middle;\n",
       "    }\n",
       "\n",
       "    .dataframe tbody tr th {\n",
       "        vertical-align: top;\n",
       "    }\n",
       "\n",
       "    .dataframe thead th {\n",
       "        text-align: right;\n",
       "    }\n",
       "</style>\n",
       "<table border=\"1\" class=\"dataframe\">\n",
       "  <thead>\n",
       "    <tr style=\"text-align: right;\">\n",
       "      <th></th>\n",
       "      <th>repositories</th>\n",
       "      <th>stars_count</th>\n",
       "      <th>forks_count</th>\n",
       "      <th>issues_count</th>\n",
       "      <th>pull_requests</th>\n",
       "      <th>contributors</th>\n",
       "      <th>language</th>\n",
       "    </tr>\n",
       "  </thead>\n",
       "  <tbody>\n",
       "    <tr>\n",
       "      <th>0</th>\n",
       "      <td>ethereum/aleth</td>\n",
       "      <td>0</td>\n",
       "      <td>0</td>\n",
       "      <td>313</td>\n",
       "      <td>27</td>\n",
       "      <td>154</td>\n",
       "      <td>C++</td>\n",
       "    </tr>\n",
       "    <tr>\n",
       "      <th>1</th>\n",
       "      <td>ethereum/aleth</td>\n",
       "      <td>0</td>\n",
       "      <td>0</td>\n",
       "      <td>313</td>\n",
       "      <td>27</td>\n",
       "      <td>154</td>\n",
       "      <td>C++</td>\n",
       "    </tr>\n",
       "    <tr>\n",
       "      <th>10</th>\n",
       "      <td>iamrajiv/new-keptn-docs-engine</td>\n",
       "      <td>0</td>\n",
       "      <td>1</td>\n",
       "      <td>81</td>\n",
       "      <td>3</td>\n",
       "      <td>0</td>\n",
       "      <td>JavaScript</td>\n",
       "    </tr>\n",
       "    <tr>\n",
       "      <th>30</th>\n",
       "      <td>donnemartin/system-design-primer</td>\n",
       "      <td>0</td>\n",
       "      <td>0</td>\n",
       "      <td>164</td>\n",
       "      <td>164</td>\n",
       "      <td>115</td>\n",
       "      <td>Python</td>\n",
       "    </tr>\n",
       "    <tr>\n",
       "      <th>37</th>\n",
       "      <td>thrau/jarchivelib</td>\n",
       "      <td>183</td>\n",
       "      <td>33</td>\n",
       "      <td>23</td>\n",
       "      <td>4</td>\n",
       "      <td>7</td>\n",
       "      <td>Java</td>\n",
       "    </tr>\n",
       "    <tr>\n",
       "      <th>...</th>\n",
       "      <td>...</td>\n",
       "      <td>...</td>\n",
       "      <td>...</td>\n",
       "      <td>...</td>\n",
       "      <td>...</td>\n",
       "      <td>...</td>\n",
       "      <td>...</td>\n",
       "    </tr>\n",
       "    <tr>\n",
       "      <th>1014</th>\n",
       "      <td>SauravMukherjee44/Portfolio-Saurav-Mukherjee</td>\n",
       "      <td>37</td>\n",
       "      <td>18</td>\n",
       "      <td>1</td>\n",
       "      <td>0</td>\n",
       "      <td>2</td>\n",
       "      <td>CSS</td>\n",
       "    </tr>\n",
       "    <tr>\n",
       "      <th>1015</th>\n",
       "      <td>sirinath/blog</td>\n",
       "      <td>0</td>\n",
       "      <td>0</td>\n",
       "      <td>2</td>\n",
       "      <td>0</td>\n",
       "      <td>23</td>\n",
       "      <td>Shell</td>\n",
       "    </tr>\n",
       "    <tr>\n",
       "      <th>1019</th>\n",
       "      <td>mrdbourke/food-not-food</td>\n",
       "      <td>45</td>\n",
       "      <td>9</td>\n",
       "      <td>1</td>\n",
       "      <td>0</td>\n",
       "      <td>2</td>\n",
       "      <td>Jupyter Notebook</td>\n",
       "    </tr>\n",
       "    <tr>\n",
       "      <th>1032</th>\n",
       "      <td>lynxerzhang/AS3Util</td>\n",
       "      <td>3</td>\n",
       "      <td>1</td>\n",
       "      <td>1</td>\n",
       "      <td>0</td>\n",
       "      <td>0</td>\n",
       "      <td>ActionScript</td>\n",
       "    </tr>\n",
       "    <tr>\n",
       "      <th>1042</th>\n",
       "      <td>rijusougata13/movie-recommender</td>\n",
       "      <td>1</td>\n",
       "      <td>1</td>\n",
       "      <td>2</td>\n",
       "      <td>0</td>\n",
       "      <td>2</td>\n",
       "      <td>HTML</td>\n",
       "    </tr>\n",
       "  </tbody>\n",
       "</table>\n",
       "<p>145 rows × 7 columns</p>\n",
       "</div>"
      ],
      "text/plain": [
       "                                      repositories  stars_count  forks_count  \\\n",
       "0                                   ethereum/aleth            0            0   \n",
       "1                                   ethereum/aleth            0            0   \n",
       "10                  iamrajiv/new-keptn-docs-engine            0            1   \n",
       "30                donnemartin/system-design-primer            0            0   \n",
       "37                               thrau/jarchivelib          183           33   \n",
       "...                                            ...          ...          ...   \n",
       "1014  SauravMukherjee44/Portfolio-Saurav-Mukherjee           37           18   \n",
       "1015                                 sirinath/blog            0            0   \n",
       "1019                       mrdbourke/food-not-food           45            9   \n",
       "1032                           lynxerzhang/AS3Util            3            1   \n",
       "1042               rijusougata13/movie-recommender            1            1   \n",
       "\n",
       "      issues_count  pull_requests  contributors          language  \n",
       "0              313             27           154               C++  \n",
       "1              313             27           154               C++  \n",
       "10              81              3             0        JavaScript  \n",
       "30             164            164           115            Python  \n",
       "37              23              4             7              Java  \n",
       "...            ...            ...           ...               ...  \n",
       "1014             1              0             2               CSS  \n",
       "1015             2              0            23             Shell  \n",
       "1019             1              0             2  Jupyter Notebook  \n",
       "1032             1              0             0      ActionScript  \n",
       "1042             2              0             2              HTML  \n",
       "\n",
       "[145 rows x 7 columns]"
      ]
     },
     "execution_count": 48,
     "metadata": {},
     "output_type": "execute_result"
    }
   ],
   "source": [
    "import numpy as np\n",
    "from sklearn.metrics.pairwise import nan_euclidean_distances\n",
    "import pandas as pd\n",
    "from tqdm import tqdm\n",
    "\n",
    "github_df = pd.read_csv('github/github_dataset.csv')\n",
    "\n",
    "rows_with_missing = github_df[github_df.isnull().any(axis=1)]\n",
    "numeric_rows_with = rows_with_missing[['stars_count','forks_count','issues_count','pull_requests','contributors']]\n",
    "rows_without_missing = github_df[~github_df.isnull().any(axis=1)]\n",
    "numeric_rows_without = rows_without_missing[['stars_count','forks_count','issues_count','pull_requests','contributors']]\n",
    "interpoted = rows_with_missing.copy()\n",
    "for row in numeric_rows_with.itertuples():\n",
    "    # 计算当前行与其他行的欧氏距离，忽略NaN值\n",
    "    distances = nan_euclidean_distances([numeric_rows_with.loc[row.Index]], numeric_rows_without)[0]\n",
    "    nearest_row_index = np.argmin(distances)\n",
    "    nearest_row = rows_without_missing.iloc[nearest_row_index]\n",
    "    # 使用最近邻行的值填充缺失值\n",
    "    interpoted.loc[row.Index] = nearest_row\n",
    "\n",
    "interpoted"
   ]
  }
 ],
 "metadata": {
  "kernelspec": {
   "display_name": "imageFusion",
   "language": "python",
   "name": "python3"
  },
  "language_info": {
   "codemirror_mode": {
    "name": "ipython",
    "version": 3
   },
   "file_extension": ".py",
   "mimetype": "text/x-python",
   "name": "python",
   "nbconvert_exporter": "python",
   "pygments_lexer": "ipython3",
   "version": "3.8.18"
  }
 },
 "nbformat": 4,
 "nbformat_minor": 2
}
